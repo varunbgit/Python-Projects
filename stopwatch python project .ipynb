{
 "cells": [
  {
   "cell_type": "code",
   "execution_count": 1,
   "id": "ced67c15",
   "metadata": {},
   "outputs": [],
   "source": []
  },
  {
   "cell_type": "code",
   "execution_count": 1,
   "id": "8e253e8a",
   "metadata": {},
   "outputs": [],
   "source": [
    "import tkinter as Tkinter\n",
    "from datetime import datetime\n",
    "counter = 66600\n",
    "running = False\n",
    "def counter_label(label):\n",
    "\tdef count():\n",
    "\t\tif running:\n",
    "\t\t\tglobal counter\n",
    "\t\t\tif counter==66600:\n",
    "\t\t\t\tdisplay=\"Starting...\"\n",
    "\t\t\telse:\n",
    "\t\t\t\ttt = datetime.fromtimestamp(counter)\n",
    "\t\t\t\tstring = tt.strftime(\"%H:%M:%S\")\n",
    "\t\t\t\tdisplay=string\n",
    "\t\t\tlabel['text']=display \n",
    "\t\t\tlabel.after(1000, count)\n",
    "\t\t\tcounter += 1\n",
    "\tcount()\n",
    "def Start(label):\n",
    "\tglobal running\n",
    "\trunning=True\n",
    "\tcounter_label(label)\n",
    "\tstart['state']='disabled'\n",
    "\tstop['state']='normal'\n",
    "\treset['state']='normal'\n",
    "def Stop():\n",
    "\tglobal running\n",
    "\tstart['state']='normal'\n",
    "\tstop['state']='disabled'\n",
    "\treset['state']='normal'\n",
    "\trunning = False\n",
    "def Reset(label):\n",
    "\tglobal counter\n",
    "\tcounter=66600\n",
    "\tif running==False:\t\n",
    "\t\treset['state']='disabled'\n",
    "\t\tlabel['text']='Welcome!'\n",
    "\telse:\t\t\t\n",
    "\t\tlabel['text']='Starting...'\n",
    "root = Tkinter.Tk()\n",
    "root.title(\"Stopwatch\")\n",
    "root.minsize(width=250, height=70)\n",
    "label = Tkinter.Label(root, text=\"Welcome!\", fg=\"black\", font=\"Verdana 30 bold\")\n",
    "label.pack()\n",
    "f = Tkinter.Frame(root)\n",
    "start = Tkinter.Button(f, text='Start', width=6, command=lambda:Start(label))\n",
    "stop = Tkinter.Button(f, text='Stop',width=6,state='disabled', command=Stop)\n",
    "reset = Tkinter.Button(f, text='Reset',width=6, state='disabled', command=lambda:Reset(label))\n",
    "f.pack(anchor = 'center',pady=5)\n",
    "start.pack(side=\"left\")\n",
    "stop.pack(side =\"left\")\n",
    "reset.pack(side=\"left\")\n",
    "root.mainloop()"
   ]
  },
  {
   "cell_type": "code",
   "execution_count": null,
   "id": "8296cfc3",
   "metadata": {},
   "outputs": [],
   "source": []
  }
 ],
 "metadata": {
  "kernelspec": {
   "display_name": "Python 3",
   "language": "python",
   "name": "python3"
  },
  "language_info": {
   "codemirror_mode": {
    "name": "ipython",
    "version": 3
   },
   "file_extension": ".py",
   "mimetype": "text/x-python",
   "name": "python",
   "nbconvert_exporter": "python",
   "pygments_lexer": "ipython3",
   "version": "3.8.8"
  }
 },
 "nbformat": 4,
 "nbformat_minor": 5
}
