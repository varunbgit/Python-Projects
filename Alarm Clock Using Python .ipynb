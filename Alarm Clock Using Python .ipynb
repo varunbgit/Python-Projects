{
 "cells": [
  {
   "cell_type": "code",
   "execution_count": null,
   "id": "c7fa90da",
   "metadata": {},
   "outputs": [
    {
     "name": "stdout",
     "output_type": "stream",
     "text": [
      "The set date is: 13/12/2021\n",
      "Your alarm time is :  12:25:00\n",
      "Time to wake up \n"
     ]
    }
   ],
   "source": [
    "from tkinter import *\n",
    "import datetime\n",
    "import time\n",
    "import winsound\n",
    "\n",
    "def alarm(set_alarm_timer):\n",
    "    current_time = datetime.datetime.now()\n",
    "    date = current_time.strftime('%d/%m/%Y')\n",
    "    print(\"The set date is:\", date)\n",
    "    print(\"Your alarm time is : \" , set_alarm_timer)\n",
    "    \n",
    "    while True:\n",
    "        time.sleep(1)\n",
    "        \n",
    "        current_time = datetime.datetime.now()\n",
    "        now = current_time.strftime('%H:%M:%S')\n",
    "        #print(now , '==' , set_alarm_timer)\n",
    "        if now == set_alarm_timer:\n",
    "            print(\"Time to wake up \")\n",
    "            winsound.PlaySound(\"sound_file.wav\",winsound.SND_ASYNC)\n",
    "            break\n",
    "        \n",
    "def actual_time():\n",
    "    set_alarm_timer = f'{hour.get()}:{mins.get()}:{sec.get()}'\n",
    "    alarm(set_alarm_timer)\n",
    "    \n",
    "clock = Tk()\n",
    "clock.title(\"Dataflair Alarm clock\")\n",
    "clock.geometry(\"400x200\")\n",
    "time_format=Label(clock, text = \"Enter time in 24 hr format\",fg = 'red', bg='black', font='Arial')\n",
    "time_format.place(x = 60, y = 120)\n",
    "addTime = Label(clock, text = \"Hour Min Sec\", font = 60)\n",
    "addTime. place(x = 110)\n",
    "setYourAlarm = Label(clock, text = \"When to wake up\", fg = 'blue', relief = \"solid\", font = (\"Helevetica\",7,'bold'))\n",
    "setYourAlarm.place(x = 0, y=29)\n",
    "\n",
    "hour = StringVar()\n",
    "mins = StringVar()\n",
    "sec = StringVar()\n",
    "\n",
    "hourTime= Entry(clock, textvariable = hour, bg = \"pink\", width = 15).place(x=110, y=30)\n",
    "minTime= Entry(clock, textvariable = mins, bg = \"pink\", width = 15).place(x=150, y=30)\n",
    "secTime= Entry(clock, textvariable = sec, bg = \"pink\", width = 15).place(x=200, y=30)\n",
    "\n",
    "submit = Button(clock, text = \"Set Alarm\", fg = \"red\", width = 10, command = actual_time).place(x=110, y=70)\n",
    "\n",
    "clock.mainloop()"
   ]
  },
  {
   "cell_type": "code",
   "execution_count": null,
   "id": "cc03c982",
   "metadata": {},
   "outputs": [],
   "source": []
  }
 ],
 "metadata": {
  "kernelspec": {
   "display_name": "Python 3",
   "language": "python",
   "name": "python3"
  },
  "language_info": {
   "codemirror_mode": {
    "name": "ipython",
    "version": 3
   },
   "file_extension": ".py",
   "mimetype": "text/x-python",
   "name": "python",
   "nbconvert_exporter": "python",
   "pygments_lexer": "ipython3",
   "version": "3.8.8"
  }
 },
 "nbformat": 4,
 "nbformat_minor": 5
}
