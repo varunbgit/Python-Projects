{
 "cells": [
  {
   "cell_type": "code",
   "execution_count": 1,
   "id": "3cc6cf87",
   "metadata": {},
   "outputs": [
    {
     "name": "stdout",
     "output_type": "stream",
     "text": [
      "Requirement already satisfied: python-telegram-bot in c:\\users\\deepshikha singh\\anaconda3\\lib\\site-packages (13.7)\n",
      "Requirement already satisfied: cachetools==4.2.2 in c:\\users\\deepshikha singh\\anaconda3\\lib\\site-packages (from python-telegram-bot) (4.2.2)\n",
      "Requirement already satisfied: certifi in c:\\users\\deepshikha singh\\anaconda3\\lib\\site-packages (from python-telegram-bot) (2020.12.5)\n",
      "Requirement already satisfied: pytz>=2018.6 in c:\\users\\deepshikha singh\\anaconda3\\lib\\site-packages (from python-telegram-bot) (2021.1)\n",
      "Requirement already satisfied: tornado>=6.1 in c:\\users\\deepshikha singh\\anaconda3\\lib\\site-packages (from python-telegram-bot) (6.1)\n",
      "Requirement already satisfied: APScheduler==3.6.3 in c:\\users\\deepshikha singh\\anaconda3\\lib\\site-packages (from python-telegram-bot) (3.6.3)\n",
      "Requirement already satisfied: six>=1.4.0 in c:\\users\\deepshikha singh\\anaconda3\\lib\\site-packages (from APScheduler==3.6.3->python-telegram-bot) (1.15.0)\n",
      "Requirement already satisfied: tzlocal>=1.2 in c:\\users\\deepshikha singh\\anaconda3\\lib\\site-packages (from APScheduler==3.6.3->python-telegram-bot) (4.1)\n",
      "Requirement already satisfied: setuptools>=0.7 in c:\\users\\deepshikha singh\\anaconda3\\lib\\site-packages (from APScheduler==3.6.3->python-telegram-bot) (52.0.0.post20210125)\n",
      "Requirement already satisfied: pytz-deprecation-shim in c:\\users\\deepshikha singh\\anaconda3\\lib\\site-packages (from tzlocal>=1.2->APScheduler==3.6.3->python-telegram-bot) (0.1.0.post0)\n",
      "Requirement already satisfied: backports.zoneinfo in c:\\users\\deepshikha singh\\anaconda3\\lib\\site-packages (from tzlocal>=1.2->APScheduler==3.6.3->python-telegram-bot) (0.2.1)\n",
      "Requirement already satisfied: tzdata in c:\\users\\deepshikha singh\\anaconda3\\lib\\site-packages (from tzlocal>=1.2->APScheduler==3.6.3->python-telegram-bot) (2021.5)\n"
     ]
    }
   ],
   "source": [
    "!pip install python-telegram-bot"
   ]
  },
  {
   "cell_type": "code",
   "execution_count": 2,
   "id": "93b9f7a6",
   "metadata": {},
   "outputs": [],
   "source": [
    "import telegram"
   ]
  },
  {
   "cell_type": "code",
   "execution_count": 4,
   "id": "7756ea97",
   "metadata": {},
   "outputs": [],
   "source": [
    "from telegram import*"
   ]
  },
  {
   "cell_type": "code",
   "execution_count": 5,
   "id": "15166c55",
   "metadata": {},
   "outputs": [],
   "source": [
    "from telegram.ext import*"
   ]
  },
  {
   "cell_type": "code",
   "execution_count": 6,
   "id": "1e7c6ee7",
   "metadata": {},
   "outputs": [],
   "source": [
    "bot = Bot(\"2052650401:AAEK5Lf9DGNPPJGaZacgs3I8oMAFia1xMyU\")"
   ]
  },
  {
   "cell_type": "code",
   "execution_count": 7,
   "id": "86ff406c",
   "metadata": {},
   "outputs": [
    {
     "name": "stdout",
     "output_type": "stream",
     "text": [
      "{'supports_inline_queries': False, 'can_join_groups': True, 'username': 'Deepshikha_bot', 'first_name': 'Sample bot', 'id': 2052650401, 'can_read_all_group_messages': False, 'is_bot': True}\n"
     ]
    }
   ],
   "source": [
    "#print(bot.get_me())"
   ]
  },
  {
   "cell_type": "code",
   "execution_count": 8,
   "id": "2ad3f789",
   "metadata": {},
   "outputs": [],
   "source": [
    "updater = Updater(\"2052650401:AAEK5Lf9DGNPPJGaZacgs3I8oMAFia1xMyU\", use_context =True)"
   ]
  },
  {
   "cell_type": "code",
   "execution_count": 10,
   "id": "596769f2",
   "metadata": {},
   "outputs": [],
   "source": [
    "dispatcher=updater.dispatcher"
   ]
  },
  {
   "cell_type": "code",
   "execution_count": 11,
   "id": "9f187fa0",
   "metadata": {},
   "outputs": [],
   "source": [
    "\n",
    "def hello(update, context):\n",
    "    context.bot.send_message(chat_id=update.effective_chat.id, text='Hello, World')\n"
   ]
  },
  {
   "cell_type": "code",
   "execution_count": 12,
   "id": "7786c68e",
   "metadata": {},
   "outputs": [],
   "source": [
    "hello_handler = CommandHandler('hello', hello)\n",
    "dispatcher.add_handler(hello_handler)"
   ]
  },
  {
   "cell_type": "code",
   "execution_count": 13,
   "id": "be31cb48",
   "metadata": {},
   "outputs": [
    {
     "data": {
      "text/plain": [
       "<queue.Queue at 0x150c295a460>"
      ]
     },
     "execution_count": 13,
     "metadata": {},
     "output_type": "execute_result"
    }
   ],
   "source": [
    "updater.start_polling()\n"
   ]
  },
  {
   "cell_type": "code",
   "execution_count": 27,
   "id": "06381d40",
   "metadata": {},
   "outputs": [],
   "source": [
    "def  test_function(update, context):\n",
    "    context.bot.send_message(chat_id=update.effective_chat.id, text='How can I help You?')"
   ]
  },
  {
   "cell_type": "code",
   "execution_count": 31,
   "id": "d18bf5bb",
   "metadata": {},
   "outputs": [],
   "source": [
    "start_value = CommandHandler('help', test_function1)\n",
    "dispatcher.add_handler(start_value)"
   ]
  },
  {
   "cell_type": "code",
   "execution_count": 29,
   "id": "0136658b",
   "metadata": {},
   "outputs": [],
   "source": [
    "updater.start_polling()"
   ]
  },
  {
   "cell_type": "code",
   "execution_count": null,
   "id": "31e5b560",
   "metadata": {},
   "outputs": [],
   "source": []
  }
 ],
 "metadata": {
  "kernelspec": {
   "display_name": "Python 3",
   "language": "python",
   "name": "python3"
  },
  "language_info": {
   "codemirror_mode": {
    "name": "ipython",
    "version": 3
   },
   "file_extension": ".py",
   "mimetype": "text/x-python",
   "name": "python",
   "nbconvert_exporter": "python",
   "pygments_lexer": "ipython3",
   "version": "3.8.8"
  }
 },
 "nbformat": 4,
 "nbformat_minor": 5
}
